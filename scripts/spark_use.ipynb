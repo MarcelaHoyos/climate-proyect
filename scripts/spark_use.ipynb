{
 "cells": [
  {
   "cell_type": "markdown",
   "metadata": {},
   "source": [
    "# Manipulación de datos a través de jupyterhub con ayuda  de spark, sql y s3\n",
    "\n",
    "En el siguiente documento haremos una análisis exploratorio rápido de la base de datos climate_db, valiendonos de las herramientas que nos proporciona **pyspark**.\n",
    "\n",
    "\n",
    "### Inicializamos el ambiente spark"
   ]
  },
  {
   "cell_type": "code",
   "execution_count": 1,
   "metadata": {},
   "outputs": [
    {
     "name": "stdout",
     "output_type": "stream",
     "text": [
      "Starting Spark application\n"
     ]
    },
    {
     "data": {
      "text/html": [
       "<table>\n",
       "<tr><th>ID</th><th>YARN Application ID</th><th>Kind</th><th>State</th><th>Spark UI</th><th>Driver log</th><th>Current session?</th></tr><tr><td>1</td><td>application_1646601584569_0003</td><td>pyspark</td><td>idle</td><td><a target=\"_blank\" href=\"http://ip-172-31-28-95.ec2.internal:20888/proxy/application_1646601584569_0003/\">Link</a></td><td><a target=\"_blank\" href=\"http://ip-172-31-21-18.ec2.internal:8042/node/containerlogs/container_1646601584569_0003_01_000001/livy\">Link</a></td><td>✔</td></tr></table>"
      ],
      "text/plain": [
       "<IPython.core.display.HTML object>"
      ]
     },
     "metadata": {},
     "output_type": "display_data"
    },
    {
     "data": {
      "application/vnd.jupyter.widget-view+json": {
       "model_id": "",
       "version_major": 2,
       "version_minor": 0
      },
      "text/plain": [
       "FloatProgress(value=0.0, bar_style='info', description='Progress:', layout=Layout(height='25px', width='50%'),…"
      ]
     },
     "metadata": {},
     "output_type": "display_data"
    },
    {
     "name": "stdout",
     "output_type": "stream",
     "text": [
      "SparkSession available as 'spark'.\n"
     ]
    },
    {
     "data": {
      "application/vnd.jupyter.widget-view+json": {
       "model_id": "",
       "version_major": 2,
       "version_minor": 0
      },
      "text/plain": [
       "FloatProgress(value=0.0, bar_style='info', description='Progress:', layout=Layout(height='25px', width='50%'),…"
      ]
     },
     "metadata": {},
     "output_type": "display_data"
    },
    {
     "name": "stdout",
     "output_type": "stream",
     "text": [
      "<SparkContext master=yarn appName=livy-session-1>"
     ]
    }
   ],
   "source": [
    "spark\n",
    "sc"
   ]
  },
  {
   "cell_type": "markdown",
   "metadata": {},
   "source": [
    "### Se importan las funciones de pyspark para uso en sql"
   ]
  },
  {
   "cell_type": "code",
   "execution_count": 2,
   "metadata": {},
   "outputs": [
    {
     "data": {
      "application/vnd.jupyter.widget-view+json": {
       "model_id": "",
       "version_major": 2,
       "version_minor": 0
      },
      "text/plain": [
       "FloatProgress(value=0.0, bar_style='info', description='Progress:', layout=Layout(height='25px', width='50%'),…"
      ]
     },
     "metadata": {},
     "output_type": "display_data"
    }
   ],
   "source": [
    "from pyspark.sql.functions import *"
   ]
  },
  {
   "cell_type": "markdown",
   "metadata": {},
   "source": [
    "### Podemos ver las bases que tenemos actualmente utilizando el siguiente comando"
   ]
  },
  {
   "cell_type": "code",
   "execution_count": 3,
   "metadata": {},
   "outputs": [
    {
     "data": {
      "application/vnd.jupyter.widget-view+json": {
       "model_id": "",
       "version_major": 2,
       "version_minor": 0
      },
      "text/plain": [
       "FloatProgress(value=0.0, bar_style='info', description='Progress:', layout=Layout(height='25px', width='50%'),…"
      ]
     },
     "metadata": {},
     "output_type": "display_data"
    },
    {
     "name": "stdout",
     "output_type": "stream",
     "text": [
      "+----------------+\n",
      "|       namespace|\n",
      "+----------------+\n",
      "|      airlinesdb|\n",
      "|      climate_db|\n",
      "|       climatedb|\n",
      "|         default|\n",
      "|           onudb|\n",
      "|      trickit_db|\n",
      "|zip_db_bkproject|\n",
      "+----------------+"
     ]
    }
   ],
   "source": [
    "spark.sql(\"SHOW DATABASES\").show()"
   ]
  },
  {
   "cell_type": "markdown",
   "metadata": {},
   "source": [
    "La anterior lista mustra las diferentes bases creadas a partir de las practicas en el taller del curso y en las individuales. Nos centraremos en la llamada **climate_db**."
   ]
  },
  {
   "cell_type": "markdown",
   "metadata": {},
   "source": [
    "### Cargamos la base de nuestro interés"
   ]
  },
  {
   "cell_type": "code",
   "execution_count": 4,
   "metadata": {},
   "outputs": [
    {
     "data": {
      "application/vnd.jupyter.widget-view+json": {
       "model_id": "",
       "version_major": 2,
       "version_minor": 0
      },
      "text/plain": [
       "FloatProgress(value=0.0, bar_style='info', description='Progress:', layout=Layout(height='25px', width='50%'),…"
      ]
     },
     "metadata": {},
     "output_type": "display_data"
    },
    {
     "name": "stdout",
     "output_type": "stream",
     "text": [
      "++\n",
      "||\n",
      "++\n",
      "++"
     ]
    }
   ],
   "source": [
    "spark.sql(\"USE climate_db;\").show()"
   ]
  },
  {
   "cell_type": "markdown",
   "metadata": {},
   "source": [
    "### Hacemos una lectura de la tabla de interés dentro de la base y la alojamos en una variable que llamaremos climate."
   ]
  },
  {
   "cell_type": "code",
   "execution_count": 5,
   "metadata": {},
   "outputs": [
    {
     "data": {
      "application/vnd.jupyter.widget-view+json": {
       "model_id": "",
       "version_major": 2,
       "version_minor": 0
      },
      "text/plain": [
       "FloatProgress(value=0.0, bar_style='info', description='Progress:', layout=Layout(height='25px', width='50%'),…"
      ]
     },
     "metadata": {},
     "output_type": "display_data"
    },
    {
     "name": "stdout",
     "output_type": "stream",
     "text": [
      "+--------------------+-------------------+---------------------+----------+-----------+------------+-----------------------+------------+--------------------+--------------------+----------------+--------------------+--------+--------+-------------+--------------------+\n",
      "|               fecha|autoridad_ambiental|nombre_de_la_estaci_n|tecnolog_a|    latitud|    longitud|c_digo_del_departamento|departamento|c_digo_del_municipio|nombre_del_municipio|tipo_de_estaci_n|tiempo_de_exposici_n|variable|unidades|concentraci_n|     geocoded_column|\n",
      "+--------------------+-------------------+---------------------+----------+-----------+------------+-----------------------+------------+--------------------+--------------------+----------------+--------------------+--------+--------+-------------+--------------------+\n",
      "|               fecha|autoridad_ambiental| nombre_de_la_esta...|tecnolog_a|       null|        null|                   null|departamento|                null|nombre_del_municipio|tipo_de_estaci_n|                null|variable|unidades|         null|     geocoded_column|\n",
      "|04/01/2011 12:00:...|                CAR|      Bogotá-Mochuelo|    Manual|4.530213886|-74.14221714|                     11|CUNDINAMARCA|               11001|        BOGOTÁ. D.C.|            Fija|                  24|     NO2|   µg/m3|        48.52|\"{'latitude': '4....|\n",
      "|06/01/2011 12:00:...|                CAR|      Bogotá-Mochuelo|    Manual|4.530213886|-74.14221714|                     11|CUNDINAMARCA|               11001|        BOGOTÁ. D.C.|            Fija|                  24|     NO2|   µg/m3|        40.13|\"{'latitude': '4....|\n",
      "+--------------------+-------------------+---------------------+----------+-----------+------------+-----------------------+------------+--------------------+--------------------+----------------+--------------------+--------+--------+-------------+--------------------+\n",
      "only showing top 3 rows"
     ]
    }
   ],
   "source": [
    "climate = spark.sql(\"SELECT * FROM climate;\")\n",
    "climate.show(3)"
   ]
  },
  {
   "cell_type": "markdown",
   "metadata": {},
   "source": [
    "La anterior es guardada como un dataframe de spark.\n",
    "\n",
    "### Encontramos ahora el número de registros en nuestra tabla\n",
    "\n",
    "Lo haremos de dos maneras, usando un comando de sql y otro de pyspark"
   ]
  },
  {
   "cell_type": "code",
   "execution_count": 6,
   "metadata": {},
   "outputs": [
    {
     "data": {
      "application/vnd.jupyter.widget-view+json": {
       "model_id": "",
       "version_major": 2,
       "version_minor": 0
      },
      "text/plain": [
       "FloatProgress(value=0.0, bar_style='info', description='Progress:', layout=Layout(height='25px', width='50%'),…"
      ]
     },
     "metadata": {},
     "output_type": "display_data"
    },
    {
     "name": "stdout",
     "output_type": "stream",
     "text": [
      "+--------+\n",
      "|count(1)|\n",
      "+--------+\n",
      "|11426916|\n",
      "+--------+"
     ]
    }
   ],
   "source": [
    "spark.sql(\"SELECT count(*) FROM climate;\").show()"
   ]
  },
  {
   "cell_type": "code",
   "execution_count": 7,
   "metadata": {},
   "outputs": [
    {
     "data": {
      "application/vnd.jupyter.widget-view+json": {
       "model_id": "",
       "version_major": 2,
       "version_minor": 0
      },
      "text/plain": [
       "FloatProgress(value=0.0, bar_style='info', description='Progress:', layout=Layout(height='25px', width='50%'),…"
      ]
     },
     "metadata": {},
     "output_type": "display_data"
    },
    {
     "name": "stdout",
     "output_type": "stream",
     "text": [
      "11426916"
     ]
    }
   ],
   "source": [
    "climate.count()"
   ]
  },
  {
   "cell_type": "markdown",
   "metadata": {},
   "source": [
    "Por lo tanto las dimensiones iniciales de nuestro dataframe **climate** son:"
   ]
  },
  {
   "cell_type": "code",
   "execution_count": 8,
   "metadata": {},
   "outputs": [
    {
     "data": {
      "application/vnd.jupyter.widget-view+json": {
       "model_id": "",
       "version_major": 2,
       "version_minor": 0
      },
      "text/plain": [
       "FloatProgress(value=0.0, bar_style='info', description='Progress:', layout=Layout(height='25px', width='50%'),…"
      ]
     },
     "metadata": {},
     "output_type": "display_data"
    },
    {
     "name": "stdout",
     "output_type": "stream",
     "text": [
      "11426916 filas y 16 columnas"
     ]
    }
   ],
   "source": [
    "print((\"{} filas y {} columnas\").format(climate.count(),len(climate.columns)))"
   ]
  },
  {
   "cell_type": "markdown",
   "metadata": {},
   "source": [
    "### A grandes rasgos nuestro dataframe tiene las siguientes características"
   ]
  },
  {
   "cell_type": "code",
   "execution_count": 11,
   "metadata": {},
   "outputs": [
    {
     "data": {
      "application/vnd.jupyter.widget-view+json": {
       "model_id": "",
       "version_major": 2,
       "version_minor": 0
      },
      "text/plain": [
       "FloatProgress(value=0.0, bar_style='info', description='Progress:', layout=Layout(height='25px', width='50%'),…"
      ]
     },
     "metadata": {},
     "output_type": "display_data"
    },
    {
     "name": "stdout",
     "output_type": "stream",
     "text": [
      "+--------------------+---------------------+------------+--------------------+------------------+\n",
      "|               fecha|nombre_de_la_estaci_n|departamento|nombre_del_municipio|     concentraci_n|\n",
      "+--------------------+---------------------+------------+--------------------+------------------+\n",
      "|            11426916|             11426916|    11426916|            11426916|          11056074|\n",
      "|                null|                 null|        null|                null|125.24522733592697|\n",
      "|                null|                 null|        null|                null|496.00295032775153|\n",
      "|01/01/2011 01:00:...|           Base Aérea|   ANTIOQUIA|        BARRANQUILLA|            -35.66|\n",
      "|               fecha| nombre_de_la_esta...|departamento|nombre_del_municipio|          733378.0|\n",
      "+--------------------+---------------------+------------+--------------------+------------------+"
     ]
    }
   ],
   "source": [
    "climate.describe().select('fecha','nombre_de_la_estaci_n','departamento','nombre_del_municipio','concentraci_n').show()"
   ]
  },
  {
   "cell_type": "markdown",
   "metadata": {},
   "source": [
    "En el anterior caso se filtraron para algunas columnas debido a que no era muy legible para la totalidad de estas."
   ]
  },
  {
   "cell_type": "markdown",
   "metadata": {},
   "source": [
    "### Las columnas que tenemos en nuestro spark dataframe son "
   ]
  },
  {
   "cell_type": "code",
   "execution_count": 12,
   "metadata": {},
   "outputs": [
    {
     "data": {
      "application/vnd.jupyter.widget-view+json": {
       "model_id": "",
       "version_major": 2,
       "version_minor": 0
      },
      "text/plain": [
       "FloatProgress(value=0.0, bar_style='info', description='Progress:', layout=Layout(height='25px', width='50%'),…"
      ]
     },
     "metadata": {},
     "output_type": "display_data"
    },
    {
     "name": "stdout",
     "output_type": "stream",
     "text": [
      "['fecha', 'autoridad_ambiental', 'nombre_de_la_estaci_n', 'tecnolog_a', 'latitud', 'longitud', 'c_digo_del_departamento', 'departamento', 'c_digo_del_municipio', 'nombre_del_municipio', 'tipo_de_estaci_n', 'tiempo_de_exposici_n', 'variable', 'unidades', 'concentraci_n', 'geocoded_column']"
     ]
    }
   ],
   "source": [
    "climate.columns"
   ]
  },
  {
   "cell_type": "markdown",
   "metadata": {},
   "source": [
    "### Para nuestro ínteres de análisis no son necesarias todas las columnas, por tal razón quitaremos algunas de nuestro DataFrame"
   ]
  },
  {
   "cell_type": "code",
   "execution_count": 14,
   "metadata": {},
   "outputs": [
    {
     "data": {
      "application/vnd.jupyter.widget-view+json": {
       "model_id": "",
       "version_major": 2,
       "version_minor": 0
      },
      "text/plain": [
       "FloatProgress(value=0.0, bar_style='info', description='Progress:', layout=Layout(height='25px', width='50%'),…"
      ]
     },
     "metadata": {},
     "output_type": "display_data"
    }
   ],
   "source": [
    "climate = climate.select('fecha','nombre_de_la_estaci_n','departamento','nombre_del_municipio','concentraci_n')"
   ]
  },
  {
   "cell_type": "markdown",
   "metadata": {},
   "source": [
    "Ahora tenemos un datafram de menor dimensión, lo que nos permitirá mayor agilidad en las operaciones con este. A partir de este momento nos podemos hacer algunas preguntas con respecto a los datos."
   ]
  },
  {
   "cell_type": "markdown",
   "metadata": {},
   "source": [
    "### ¿ De cuales municipios tenemos registro en nuestra base?\n",
    "\n",
    "Para esto revisamos los valores únicos en la columna asociada a los municipios"
   ]
  },
  {
   "cell_type": "code",
   "execution_count": 15,
   "metadata": {},
   "outputs": [
    {
     "data": {
      "application/vnd.jupyter.widget-view+json": {
       "model_id": "",
       "version_major": 2,
       "version_minor": 0
      },
      "text/plain": [
       "FloatProgress(value=0.0, bar_style='info', description='Progress:', layout=Layout(height='25px', width='50%'),…"
      ]
     },
     "metadata": {},
     "output_type": "display_data"
    },
    {
     "name": "stdout",
     "output_type": "stream",
     "text": [
      "+--------------------+\n",
      "|nombre_del_municipio|\n",
      "+--------------------+\n",
      "|            MEDELLÍN|\n",
      "|nombre_del_municipio|\n",
      "| CARTAGENA DE INDIAS|\n",
      "|        BOGOTÁ. D.C.|\n",
      "|                CALI|\n",
      "|        BARRANQUILLA|\n",
      "+--------------------+"
     ]
    }
   ],
   "source": [
    "climate.select('nombre_del_municipio').distinct().show()"
   ]
  },
  {
   "cell_type": "markdown",
   "metadata": {},
   "source": [
    "### Como vemos tenemos dentro de la columna una opción que no corresponde al nombre de un municipio, la cual es \"nombre_del_municipio\". Veamos que registros tienen este valor:"
   ]
  },
  {
   "cell_type": "code",
   "execution_count": 16,
   "metadata": {},
   "outputs": [
    {
     "data": {
      "application/vnd.jupyter.widget-view+json": {
       "model_id": "",
       "version_major": 2,
       "version_minor": 0
      },
      "text/plain": [
       "FloatProgress(value=0.0, bar_style='info', description='Progress:', layout=Layout(height='25px', width='50%'),…"
      ]
     },
     "metadata": {},
     "output_type": "display_data"
    },
    {
     "name": "stdout",
     "output_type": "stream",
     "text": [
      "+-----+---------------------+------------+--------------------+-------------+\n",
      "|fecha|nombre_de_la_estaci_n|departamento|nombre_del_municipio|concentraci_n|\n",
      "+-----+---------------------+------------+--------------------+-------------+\n",
      "|fecha| nombre_de_la_esta...|departamento|nombre_del_municipio|         null|\n",
      "|fecha| nombre_de_la_esta...|departamento|nombre_del_municipio|         null|\n",
      "|fecha| nombre_de_la_esta...|departamento|nombre_del_municipio|         null|\n",
      "|fecha| nombre_de_la_esta...|departamento|nombre_del_municipio|         null|\n",
      "|fecha| nombre_de_la_esta...|departamento|nombre_del_municipio|         null|\n",
      "+-----+---------------------+------------+--------------------+-------------+"
     ]
    }
   ],
   "source": [
    "climate.filter(climate.nombre_del_municipio =='nombre_del_municipio').show()"
   ]
  },
  {
   "cell_type": "markdown",
   "metadata": {},
   "source": [
    "### Vemos que para este caso no tenemos registros de información relevante, por lo que se puede hacer limpieza de estas entradas. Para esto creamos una nueva variable climate_ft, la cual alojará el dataframe sin dichos datos."
   ]
  },
  {
   "cell_type": "code",
   "execution_count": 17,
   "metadata": {},
   "outputs": [
    {
     "data": {
      "application/vnd.jupyter.widget-view+json": {
       "model_id": "",
       "version_major": 2,
       "version_minor": 0
      },
      "text/plain": [
       "FloatProgress(value=0.0, bar_style='info', description='Progress:', layout=Layout(height='25px', width='50%'),…"
      ]
     },
     "metadata": {},
     "output_type": "display_data"
    }
   ],
   "source": [
    "climate_ft = climate.filter(climate.nombre_del_municipio!= 'nombre_del_municipio')"
   ]
  },
  {
   "cell_type": "markdown",
   "metadata": {},
   "source": [
    "El nuevo número de registros en nuestro dataframe es"
   ]
  },
  {
   "cell_type": "code",
   "execution_count": 18,
   "metadata": {},
   "outputs": [
    {
     "data": {
      "application/vnd.jupyter.widget-view+json": {
       "model_id": "",
       "version_major": 2,
       "version_minor": 0
      },
      "text/plain": [
       "FloatProgress(value=0.0, bar_style='info', description='Progress:', layout=Layout(height='25px', width='50%'),…"
      ]
     },
     "metadata": {},
     "output_type": "display_data"
    },
    {
     "name": "stdout",
     "output_type": "stream",
     "text": [
      "11426911"
     ]
    }
   ],
   "source": [
    "climate_ft.count()"
   ]
  },
  {
   "cell_type": "markdown",
   "metadata": {},
   "source": [
    "A grandes rasgos en el nuevo dataframe es de la forma:"
   ]
  },
  {
   "cell_type": "code",
   "execution_count": 19,
   "metadata": {},
   "outputs": [
    {
     "data": {
      "application/vnd.jupyter.widget-view+json": {
       "model_id": "",
       "version_major": 2,
       "version_minor": 0
      },
      "text/plain": [
       "FloatProgress(value=0.0, bar_style='info', description='Progress:', layout=Layout(height='25px', width='50%'),…"
      ]
     },
     "metadata": {},
     "output_type": "display_data"
    },
    {
     "name": "stdout",
     "output_type": "stream",
     "text": [
      "+-------+--------------------+---------------------+---------------+--------------------+------------------+\n",
      "|summary|               fecha|nombre_de_la_estaci_n|   departamento|nombre_del_municipio|     concentraci_n|\n",
      "+-------+--------------------+---------------------+---------------+--------------------+------------------+\n",
      "|  count|            11426911|             11426911|       11426911|            11426911|          11056074|\n",
      "|   mean|                null|                 null|           null|                null|125.24522733592701|\n",
      "| stddev|                null|                 null|           null|                null|496.00295032775165|\n",
      "|    min|01/01/2011 01:00:...|           Base Aérea|      ANTIOQUIA|        BARRANQUILLA|            -35.66|\n",
      "|    max|    31/12/2018 23:00| Zona Franca La Ca...|VALLE DEL CAUCA|            MEDELLÍN|          733378.0|\n",
      "+-------+--------------------+---------------------+---------------+--------------------+------------------+"
     ]
    }
   ],
   "source": [
    "climate_ft.describe().show()"
   ]
  },
  {
   "cell_type": "markdown",
   "metadata": {},
   "source": [
    "### Comprobamos que ya no tengamos dichos registros"
   ]
  },
  {
   "cell_type": "code",
   "execution_count": 20,
   "metadata": {},
   "outputs": [
    {
     "data": {
      "application/vnd.jupyter.widget-view+json": {
       "model_id": "",
       "version_major": 2,
       "version_minor": 0
      },
      "text/plain": [
       "FloatProgress(value=0.0, bar_style='info', description='Progress:', layout=Layout(height='25px', width='50%'),…"
      ]
     },
     "metadata": {},
     "output_type": "display_data"
    },
    {
     "name": "stdout",
     "output_type": "stream",
     "text": [
      "+--------------------+\n",
      "|nombre_del_municipio|\n",
      "+--------------------+\n",
      "|            MEDELLÍN|\n",
      "| CARTAGENA DE INDIAS|\n",
      "|        BOGOTÁ. D.C.|\n",
      "|                CALI|\n",
      "|        BARRANQUILLA|\n",
      "+--------------------+"
     ]
    }
   ],
   "source": [
    "climate_ft.select('nombre_del_municipio').distinct().show()"
   ]
  },
  {
   "cell_type": "markdown",
   "metadata": {},
   "source": [
    "Se evidencia que ya solo tenemos valores acordes para dicha entrada de municipios.\n",
    "\n",
    "### Podemos preguntarnos por la concentración promedio por ciudad; antes de respondernos esta inquietud verificamos si tenemos valores nulos para alguna variable.\n",
    "\n",
    "#### Nombre del municipio"
   ]
  },
  {
   "cell_type": "code",
   "execution_count": 21,
   "metadata": {},
   "outputs": [
    {
     "data": {
      "application/vnd.jupyter.widget-view+json": {
       "model_id": "",
       "version_major": 2,
       "version_minor": 0
      },
      "text/plain": [
       "FloatProgress(value=0.0, bar_style='info', description='Progress:', layout=Layout(height='25px', width='50%'),…"
      ]
     },
     "metadata": {},
     "output_type": "display_data"
    },
    {
     "name": "stdout",
     "output_type": "stream",
     "text": [
      "0"
     ]
    }
   ],
   "source": [
    "climate_ft.filter(climate.nombre_del_municipio== 'null').count()"
   ]
  },
  {
   "cell_type": "markdown",
   "metadata": {},
   "source": [
    "#### Concentración"
   ]
  },
  {
   "cell_type": "code",
   "execution_count": 22,
   "metadata": {},
   "outputs": [
    {
     "data": {
      "application/vnd.jupyter.widget-view+json": {
       "model_id": "",
       "version_major": 2,
       "version_minor": 0
      },
      "text/plain": [
       "FloatProgress(value=0.0, bar_style='info', description='Progress:', layout=Layout(height='25px', width='50%'),…"
      ]
     },
     "metadata": {},
     "output_type": "display_data"
    },
    {
     "name": "stdout",
     "output_type": "stream",
     "text": [
      "0"
     ]
    }
   ],
   "source": [
    "climate_ft.filter(climate.concentraci_n== 'null').count()"
   ]
  },
  {
   "cell_type": "markdown",
   "metadata": {},
   "source": [
    "#### Nombre de la estación"
   ]
  },
  {
   "cell_type": "code",
   "execution_count": 23,
   "metadata": {},
   "outputs": [
    {
     "data": {
      "application/vnd.jupyter.widget-view+json": {
       "model_id": "",
       "version_major": 2,
       "version_minor": 0
      },
      "text/plain": [
       "FloatProgress(value=0.0, bar_style='info', description='Progress:', layout=Layout(height='25px', width='50%'),…"
      ]
     },
     "metadata": {},
     "output_type": "display_data"
    },
    {
     "name": "stdout",
     "output_type": "stream",
     "text": [
      "0"
     ]
    }
   ],
   "source": [
    "climate_ft.filter(climate.nombre_de_la_estaci_n== 'null').count()"
   ]
  },
  {
   "cell_type": "markdown",
   "metadata": {},
   "source": [
    "#### Departamento"
   ]
  },
  {
   "cell_type": "code",
   "execution_count": 24,
   "metadata": {},
   "outputs": [
    {
     "data": {
      "application/vnd.jupyter.widget-view+json": {
       "model_id": "",
       "version_major": 2,
       "version_minor": 0
      },
      "text/plain": [
       "FloatProgress(value=0.0, bar_style='info', description='Progress:', layout=Layout(height='25px', width='50%'),…"
      ]
     },
     "metadata": {},
     "output_type": "display_data"
    },
    {
     "name": "stdout",
     "output_type": "stream",
     "text": [
      "0"
     ]
    }
   ],
   "source": [
    "climate_ft.filter(climate.departamento== 'null').count()"
   ]
  },
  {
   "cell_type": "markdown",
   "metadata": {},
   "source": [
    "De esta manera observamos que no tenemos valores nulos para las variables filtradas, lo que nos permite continuar con nuestro análisis. Antes de esto guardaremos nuestro dataframe como un **csv** en la carpeta trusted de nuestro bucket."
   ]
  },
  {
   "cell_type": "code",
   "execution_count": 25,
   "metadata": {},
   "outputs": [
    {
     "data": {
      "application/vnd.jupyter.widget-view+json": {
       "model_id": "",
       "version_major": 2,
       "version_minor": 0
      },
      "text/plain": [
       "FloatProgress(value=0.0, bar_style='info', description='Progress:', layout=Layout(height='25px', width='50%'),…"
      ]
     },
     "metadata": {},
     "output_type": "display_data"
    }
   ],
   "source": [
    "climate_ft.coalesce(1).write.format('csv').option(\"header\",\"true\").save(\"s3://bkprojectone/data/trusted/climate_filtered\")"
   ]
  },
  {
   "cell_type": "markdown",
   "metadata": {},
   "source": [
    "De esta manera los datos quedan guardados en nuestra carpeta trusted.\n",
    "\n",
    "### Ahora bien, podemos preguntarnos por el número de casos que tenemos asociados a cada municipio presente en nuestro dataframe, para esto hacemos lo siguiente"
   ]
  },
  {
   "cell_type": "code",
   "execution_count": 26,
   "metadata": {},
   "outputs": [
    {
     "data": {
      "application/vnd.jupyter.widget-view+json": {
       "model_id": "",
       "version_major": 2,
       "version_minor": 0
      },
      "text/plain": [
       "FloatProgress(value=0.0, bar_style='info', description='Progress:', layout=Layout(height='25px', width='50%'),…"
      ]
     },
     "metadata": {},
     "output_type": "display_data"
    },
    {
     "name": "stdout",
     "output_type": "stream",
     "text": [
      "+--------------------+-------+\n",
      "|nombre_del_municipio|  count|\n",
      "+--------------------+-------+\n",
      "|        BOGOTÁ. D.C.|6849391|\n",
      "|            MEDELLÍN|2604177|\n",
      "|                CALI|1614369|\n",
      "| CARTAGENA DE INDIAS| 190485|\n",
      "|        BARRANQUILLA| 168489|\n",
      "+--------------------+-------+"
     ]
    }
   ],
   "source": [
    "distri_registros = climate_ft.groupBy(\"nombre_del_municipio\").count().orderBy(desc('count'))\n",
    "distri_registros.show()"
   ]
  },
  {
   "cell_type": "markdown",
   "metadata": {},
   "source": [
    "Esta tabla la podemos guardar, ya que luego podría ser usada para mostrar un gráfico de la distribución de casos por municipio."
   ]
  },
  {
   "cell_type": "code",
   "execution_count": 27,
   "metadata": {},
   "outputs": [
    {
     "data": {
      "application/vnd.jupyter.widget-view+json": {
       "model_id": "",
       "version_major": 2,
       "version_minor": 0
      },
      "text/plain": [
       "FloatProgress(value=0.0, bar_style='info', description='Progress:', layout=Layout(height='25px', width='50%'),…"
      ]
     },
     "metadata": {},
     "output_type": "display_data"
    }
   ],
   "source": [
    "distri_registros.coalesce(1).write.format('csv').option(\"header\",\"true\").save(\"s3://bkprojectone/data/refined/climate_dist_mun\")"
   ]
  },
  {
   "cell_type": "markdown",
   "metadata": {},
   "source": [
    "En este punto nos podemos responder la pregunta, plantead líneas atrás, acerca de la **concentración promedio por ciudad**, para esto ejecutamos las siguientes lineas"
   ]
  },
  {
   "cell_type": "code",
   "execution_count": 28,
   "metadata": {},
   "outputs": [
    {
     "data": {
      "application/vnd.jupyter.widget-view+json": {
       "model_id": "",
       "version_major": 2,
       "version_minor": 0
      },
      "text/plain": [
       "FloatProgress(value=0.0, bar_style='info', description='Progress:', layout=Layout(height='25px', width='50%'),…"
      ]
     },
     "metadata": {},
     "output_type": "display_data"
    },
    {
     "name": "stdout",
     "output_type": "stream",
     "text": [
      "+--------------------+------------------+\n",
      "|nombre_del_municipio|avg(concentraci_n)|\n",
      "+--------------------+------------------+\n",
      "|            MEDELLÍN| 151.8538019096056|\n",
      "| CARTAGENA DE INDIAS|274.02173696134975|\n",
      "|        BOGOTÁ. D.C.| 123.0516412479049|\n",
      "|                CALI| 69.04594798798497|\n",
      "|        BARRANQUILLA|177.57875409959706|\n",
      "+--------------------+------------------+"
     ]
    }
   ],
   "source": [
    "concen_mun = climate_ft.groupBy('nombre_del_municipio').agg({'concentraci_n':'mean'})\n",
    "concen_mun.show()"
   ]
  },
  {
   "cell_type": "markdown",
   "metadata": {},
   "source": [
    "Redondeando un poco la cifra obtenemos lo siguiente"
   ]
  },
  {
   "cell_type": "code",
   "execution_count": 29,
   "metadata": {},
   "outputs": [
    {
     "data": {
      "application/vnd.jupyter.widget-view+json": {
       "model_id": "",
       "version_major": 2,
       "version_minor": 0
      },
      "text/plain": [
       "FloatProgress(value=0.0, bar_style='info', description='Progress:', layout=Layout(height='25px', width='50%'),…"
      ]
     },
     "metadata": {},
     "output_type": "display_data"
    },
    {
     "name": "stdout",
     "output_type": "stream",
     "text": [
      "+--------------------+-------------------+\n",
      "|nombre_del_municipio|round_concentracion|\n",
      "+--------------------+-------------------+\n",
      "|            MEDELLÍN|             151.85|\n",
      "| CARTAGENA DE INDIAS|             274.02|\n",
      "|        BOGOTÁ. D.C.|             123.05|\n",
      "|                CALI|              69.05|\n",
      "|        BARRANQUILLA|             177.58|\n",
      "+--------------------+-------------------+"
     ]
    }
   ],
   "source": [
    "concen_mun = concen_mun.withColumn(\"round_concentracion\", round(col(\"avg(concentraci_n)\"), 2)).select('nombre_del_municipio','round_concentracion')\n",
    "\n",
    "concen_mun.show()"
   ]
  },
  {
   "cell_type": "markdown",
   "metadata": {},
   "source": [
    "De nuevo guardamos los datos para futuras aplicaciones, tipo gráficos."
   ]
  },
  {
   "cell_type": "code",
   "execution_count": 30,
   "metadata": {},
   "outputs": [
    {
     "data": {
      "application/vnd.jupyter.widget-view+json": {
       "model_id": "",
       "version_major": 2,
       "version_minor": 0
      },
      "text/plain": [
       "FloatProgress(value=0.0, bar_style='info', description='Progress:', layout=Layout(height='25px', width='50%'),…"
      ]
     },
     "metadata": {},
     "output_type": "display_data"
    }
   ],
   "source": [
    "concen_mun.coalesce(1).write.format('csv').option(\"header\",\"true\").save(\"s3://bkprojectone/data/refined/concent_mun\")"
   ]
  },
  {
   "cell_type": "markdown",
   "metadata": {},
   "source": [
    "### De esta manera pudimos observar un proceso simple de manipulación de datos a través de jupyterhub con la ayuda del procesamiento de spark. De igual manera se hizo uso de la implementación de las diferentes zonas de trabajo dentro de nuestro datalake, este último un bucket de s3."
   ]
  },
  {
   "cell_type": "code",
   "execution_count": null,
   "metadata": {},
   "outputs": [],
   "source": []
  }
 ],
 "metadata": {
  "kernelspec": {
   "display_name": "PySpark",
   "language": "",
   "name": "pysparkkernel"
  },
  "language_info": {
   "codemirror_mode": {
    "name": "python",
    "version": 3
   },
   "mimetype": "text/x-python",
   "name": "pyspark",
   "pygments_lexer": "python3"
  }
 },
 "nbformat": 4,
 "nbformat_minor": 4
}
